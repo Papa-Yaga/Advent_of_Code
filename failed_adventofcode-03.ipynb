{
 "cells": [
  {
   "cell_type": "code",
   "execution_count": 1,
   "id": "42ebcf35",
   "metadata": {
    "_cell_guid": "b1076dfc-b9ad-4769-8c92-a6c4dae69d19",
    "_uuid": "8f2839f25d086af736a60e9eeb907d3b93b6e0e5",
    "execution": {
     "iopub.execute_input": "2023-12-04T12:31:52.397589Z",
     "iopub.status.busy": "2023-12-04T12:31:52.397143Z",
     "iopub.status.idle": "2023-12-04T12:31:52.403506Z",
     "shell.execute_reply": "2023-12-04T12:31:52.402139Z"
    },
    "papermill": {
     "duration": 0.014954,
     "end_time": "2023-12-04T12:31:52.406333",
     "exception": false,
     "start_time": "2023-12-04T12:31:52.391379",
     "status": "completed"
    },
    "tags": []
   },
   "outputs": [],
   "source": [
    "# ADVENT OF CODE 2023 - DAY 3"
   ]
  },
  {
   "cell_type": "code",
   "execution_count": 2,
   "id": "6d5ea3a5",
   "metadata": {
    "execution": {
     "iopub.execute_input": "2023-12-04T12:31:52.417429Z",
     "iopub.status.busy": "2023-12-04T12:31:52.417004Z",
     "iopub.status.idle": "2023-12-04T12:31:52.879968Z",
     "shell.execute_reply": "2023-12-04T12:31:52.878848Z"
    },
    "papermill": {
     "duration": 0.472925,
     "end_time": "2023-12-04T12:31:52.882908",
     "exception": false,
     "start_time": "2023-12-04T12:31:52.409983",
     "status": "completed"
    },
    "tags": []
   },
   "outputs": [],
   "source": [
    "import numpy as np\n",
    "import pandas as pd\n",
    "import re\n",
    "import json\n",
    "# data = []\n",
    "with open(r\"/kaggle/input/advent-data-3/Advent03.txt\") as file:\n",
    "    contents = file.read()\n",
    "    \n",
    "data = contents.split(\"\\n\")"
   ]
  },
  {
   "cell_type": "code",
   "execution_count": 3,
   "id": "8b6aeb3a",
   "metadata": {
    "execution": {
     "iopub.execute_input": "2023-12-04T12:31:52.891459Z",
     "iopub.status.busy": "2023-12-04T12:31:52.890885Z",
     "iopub.status.idle": "2023-12-04T12:31:52.896830Z",
     "shell.execute_reply": "2023-12-04T12:31:52.895578Z"
    },
    "papermill": {
     "duration": 0.0133,
     "end_time": "2023-12-04T12:31:52.899622",
     "exception": false,
     "start_time": "2023-12-04T12:31:52.886322",
     "status": "completed"
    },
    "tags": []
   },
   "outputs": [],
   "source": [
    "data = [\"467..114..\",\n",
    "\"...*......\",\n",
    "\"..35..633.\",\n",
    "\"......#...\",\n",
    "\"617*......\",\n",
    "\".....+.58.\",\n",
    "\"..592.....\",\n",
    "\"......755.\",\n",
    "\"...$.*....\",\n",
    "\".664.598..\",\n",
    "]"
   ]
  },
  {
   "cell_type": "code",
   "execution_count": 4,
   "id": "31745cd1",
   "metadata": {
    "execution": {
     "iopub.execute_input": "2023-12-04T12:31:52.908453Z",
     "iopub.status.busy": "2023-12-04T12:31:52.907891Z",
     "iopub.status.idle": "2023-12-04T12:31:52.936783Z",
     "shell.execute_reply": "2023-12-04T12:31:52.935933Z"
    },
    "papermill": {
     "duration": 0.036096,
     "end_time": "2023-12-04T12:31:52.939116",
     "exception": false,
     "start_time": "2023-12-04T12:31:52.903020",
     "status": "completed"
    },
    "tags": []
   },
   "outputs": [
    {
     "name": "stdout",
     "output_type": "stream",
     "text": [
      "4361\n"
     ]
    }
   ],
   "source": [
    "sum = 0\n",
    "pos = []\n",
    "pos_id = []\n",
    "numbers = []\n",
    "\n",
    "ratio = []\n",
    "sum_2 = 0\n",
    "\n",
    "for i,x in enumerate(data):\n",
    "    # print(f\"Row: {i} - \", x)\n",
    "    matches = re.finditer(\"[0-9]+\",x)\n",
    "    for n,match in enumerate(matches):\n",
    "        pos.append(match.span())\n",
    "        pos_id.append(i)\n",
    "        numbers.append(int(match.group()))\n",
    "        \n",
    "pos_df = pd.DataFrame(pos, index=pos_id, columns=[\"start\",\"end\"], dtype=\"int\")\n",
    "pos_df[\"numbers\"] = numbers\n",
    "\n",
    "data_list = list(enumerate(data))\n",
    "\n",
    "for row in zip(pos_df.index, pos_df.values):\n",
    "    num = row[1][2]\n",
    "    x,y = row[0]-1,row[0]+2\n",
    "    if x < 0:\n",
    "        x = 0\n",
    "    l1,l2 = row[1][0]-1,row[1][1]+1\n",
    "    if l1 < 0:\n",
    "        l1 = 0\n",
    "    for line in data_list[x:y]:\n",
    "        # print(f\"Searching in Line: {line[0]}, {line[1][l1:l2]} - {l1}:{l2}\")\n",
    "        sym = re.search(\"[^.(0-9)]\", line[1][l1:l2])\n",
    "        gear = re.search(\"[*]\", line[1][l1:l2])\n",
    "        if sym:\n",
    "            # print(f\"Number: {num} - Found: {sym.group()}\")\n",
    "            sum += num\n",
    "        if gear:\n",
    "            # print(f\"{num} - {line[0]}\")\n",
    "            ratio.append([num,line[0],gear.span()])\n",
    "            # if len(ratio) == 2:\n",
    "                # print(ratio)\n",
    "                # sum_2 += ratio[0]*ratio[1]\n",
    "                # ratio.clear()\n",
    "                  \n",
    "print(sum)\n",
    "# print(ratio)\n"
   ]
  },
  {
   "cell_type": "code",
   "execution_count": 5,
   "id": "78a58158",
   "metadata": {
    "execution": {
     "iopub.execute_input": "2023-12-04T12:31:52.948499Z",
     "iopub.status.busy": "2023-12-04T12:31:52.947347Z",
     "iopub.status.idle": "2023-12-04T12:31:52.976398Z",
     "shell.execute_reply": "2023-12-04T12:31:52.975099Z"
    },
    "papermill": {
     "duration": 0.03621,
     "end_time": "2023-12-04T12:31:52.978740",
     "exception": false,
     "start_time": "2023-12-04T12:31:52.942530",
     "status": "completed"
    },
    "tags": []
   },
   "outputs": [
    {
     "name": "stdout",
     "output_type": "stream",
     "text": [
      "   0  1  2  3  4  5  6  7  8  9\n",
      "0  4  6  7  .  .  1  1  4  .  .\n",
      "1  .  .  .  *  .  .  .  .  .  .\n",
      "2  .  .  3  5  .  .  6  3  3  .\n",
      "3  .  .  .  .  .  .  #  .  .  .\n",
      "4  6  1  7  *  .  .  .  .  .  .\n",
      "5  .  .  .  .  .  +  .  5  8  .\n",
      "6  .  .  5  9  2  .  .  .  .  .\n",
      "7  .  .  .  .  .  .  7  5  5  .\n",
      "8  .  .  .  $  .  *  .  .  .  .\n",
      "9  .  6  6  4  .  5  9  8  .  .\n",
      "4361\n",
      "* {'row': 8, 'start': 4, 'end': 6}\n"
     ]
    }
   ],
   "source": [
    "result = 0\n",
    "matrix = []\n",
    "for x in data:\n",
    "    for y in x:\n",
    "        matrix.append(y)\n",
    "\n",
    "array = np.array(matrix)\n",
    "array = array.reshape(-1,len(data[0]))\n",
    "array_matrix = pd.DataFrame(array)\n",
    "print(array_matrix)\n",
    "\n",
    "stats = {}\n",
    "gears = {}\n",
    "\n",
    "for ind in array_matrix.index:\n",
    "    num = \"\"\n",
    "    for col,p in enumerate(array_matrix.iloc[ind]):\n",
    "        if p.isnumeric():\n",
    "            num += p\n",
    "        else:\n",
    "            gear = re.search(\"[*]\", p)\n",
    "            if gear:\n",
    "                gears[p] = {\"row\":ind,\n",
    "                              \"start\":col-1,\n",
    "                             \"end\":col+1}\n",
    "            if num:\n",
    "                stats[num] = {\"row\":ind,\n",
    "                              \"start\":col-len(num)-1,\n",
    "                             \"end\":col+1}\n",
    "                num = \"\"\n",
    "\n",
    "def check(self):\n",
    "    global result\n",
    "    # print(self, stats[self])\n",
    "    col_start,col_end = stats[self][\"start\"],stats[self][\"end\"]\n",
    "    row_start,row_end = stats[self][\"row\"]-1,stats[self][\"row\"]+2\n",
    "    if col_start < 0:\n",
    "        col_start = 0\n",
    "    if row_start < 0:\n",
    "        row_start = 0\n",
    "    if col_end > 9:\n",
    "        col_end = 9\n",
    "    if row_end > 9:\n",
    "        row_end = 9\n",
    "    for ind in array_matrix.index[col_start:col_end]:\n",
    "        for col in array_matrix[row_start:row_end][ind]:\n",
    "            sym = re.search(\"[^.(0-9)]\", col)\n",
    "            if sym:\n",
    "                result += int(self)\n",
    "                \n",
    "for number in stats:\n",
    "    check(number)\n",
    "    \n",
    "print(result)\n",
    "for num in gears:\n",
    "    print(num, gears[num])"
   ]
  },
  {
   "cell_type": "code",
   "execution_count": 6,
   "id": "7cd616c1",
   "metadata": {
    "execution": {
     "iopub.execute_input": "2023-12-04T12:31:52.988285Z",
     "iopub.status.busy": "2023-12-04T12:31:52.987242Z",
     "iopub.status.idle": "2023-12-04T12:31:52.996750Z",
     "shell.execute_reply": "2023-12-04T12:31:52.995629Z"
    },
    "papermill": {
     "duration": 0.017135,
     "end_time": "2023-12-04T12:31:52.999435",
     "exception": false,
     "start_time": "2023-12-04T12:31:52.982300",
     "status": "completed"
    },
    "tags": []
   },
   "outputs": [
    {
     "data": {
      "text/plain": [
       "'for ind in array_matrix.index:\\n    num = \"\"\\n    for x in range(len(data[0])):\\n        if array_matrix[x][ind].isnumeric():\\n            pos = array_matrix[x][ind]\\n            y = x\\n            num += pos\\n        else:\\n            if num:\\n                # print(f\"Working on number: {num}\")\\n                ind1,ind2 = ind-1,ind+2\\n                if ind1 < 0: \\n                    ind1 = 0\\n                if ind2 > 9:\\n                    ind2 = 9\\n                for r in range(ind1,ind2):\\n                    for d in array_matrix.iloc[r][y:x+1]:\\n                        sym = re.search(\"[^.(0-9)]\", d)\\n                        if sym:\\n                            # print(sym.group())\\n                            result += int(num)\\n                num = '"
      ]
     },
     "execution_count": 6,
     "metadata": {},
     "output_type": "execute_result"
    }
   ],
   "source": [
    "\"\"\"for ind in array_matrix.index:\n",
    "    num = \"\"\n",
    "    for x in range(len(data[0])):\n",
    "        if array_matrix[x][ind].isnumeric():\n",
    "            pos = array_matrix[x][ind]\n",
    "            y = x\n",
    "            num += pos\n",
    "        else:\n",
    "            if num:\n",
    "                # print(f\"Working on number: {num}\")\n",
    "                ind1,ind2 = ind-1,ind+2\n",
    "                if ind1 < 0: \n",
    "                    ind1 = 0\n",
    "                if ind2 > 9:\n",
    "                    ind2 = 9\n",
    "                for r in range(ind1,ind2):\n",
    "                    for d in array_matrix.iloc[r][y:x+1]:\n",
    "                        sym = re.search(\"[^.(0-9)]\", d)\n",
    "                        if sym:\n",
    "                            # print(sym.group())\n",
    "                            result += int(num)\n",
    "                num = \"\"\"\"\""
   ]
  }
 ],
 "metadata": {
  "kaggle": {
   "accelerator": "none",
   "dataSources": [
    {
     "datasetId": 4101331,
     "sourceId": 7112549,
     "sourceType": "datasetVersion"
    }
   ],
   "dockerImageVersionId": 30587,
   "isGpuEnabled": false,
   "isInternetEnabled": true,
   "language": "python",
   "sourceType": "notebook"
  },
  "kernelspec": {
   "display_name": "Python 3",
   "language": "python",
   "name": "python3"
  },
  "language_info": {
   "codemirror_mode": {
    "name": "ipython",
    "version": 3
   },
   "file_extension": ".py",
   "mimetype": "text/x-python",
   "name": "python",
   "nbconvert_exporter": "python",
   "pygments_lexer": "ipython3",
   "version": "3.10.12"
  },
  "papermill": {
   "default_parameters": {},
   "duration": 4.744513,
   "end_time": "2023-12-04T12:31:53.524127",
   "environment_variables": {},
   "exception": null,
   "input_path": "__notebook__.ipynb",
   "output_path": "__notebook__.ipynb",
   "parameters": {},
   "start_time": "2023-12-04T12:31:48.779614",
   "version": "2.4.0"
  }
 },
 "nbformat": 4,
 "nbformat_minor": 5
}
