{
 "cells": [
  {
   "cell_type": "markdown",
   "id": "ff03df85",
   "metadata": {
    "_cell_guid": "b1076dfc-b9ad-4769-8c92-a6c4dae69d19",
    "_uuid": "8f2839f25d086af736a60e9eeb907d3b93b6e0e5",
    "papermill": {
     "duration": 0.003479,
     "end_time": "2023-12-08T12:34:29.430094",
     "exception": false,
     "start_time": "2023-12-08T12:34:29.426615",
     "status": "completed"
    },
    "tags": []
   },
   "source": [
    "# ADVENT OF CODE 2023 - DAY 7"
   ]
  },
  {
   "cell_type": "code",
   "execution_count": 1,
   "id": "e3e9a3a5",
   "metadata": {
    "execution": {
     "iopub.execute_input": "2023-12-08T12:34:29.439971Z",
     "iopub.status.busy": "2023-12-08T12:34:29.439581Z",
     "iopub.status.idle": "2023-12-08T12:34:30.148072Z",
     "shell.execute_reply": "2023-12-08T12:34:30.147079Z"
    },
    "papermill": {
     "duration": 0.71554,
     "end_time": "2023-12-08T12:34:30.150483",
     "exception": false,
     "start_time": "2023-12-08T12:34:29.434943",
     "status": "completed"
    },
    "tags": []
   },
   "outputs": [],
   "source": [
    "import numpy as np\n",
    "import pandas as pd\n",
    "import re"
   ]
  },
  {
   "cell_type": "code",
   "execution_count": 2,
   "id": "273d3fe5",
   "metadata": {
    "execution": {
     "iopub.execute_input": "2023-12-08T12:34:30.158372Z",
     "iopub.status.busy": "2023-12-08T12:34:30.157878Z",
     "iopub.status.idle": "2023-12-08T12:34:30.168226Z",
     "shell.execute_reply": "2023-12-08T12:34:30.167179Z"
    },
    "papermill": {
     "duration": 0.016888,
     "end_time": "2023-12-08T12:34:30.170537",
     "exception": false,
     "start_time": "2023-12-08T12:34:30.153649",
     "status": "completed"
    },
    "tags": []
   },
   "outputs": [],
   "source": [
    "with open(r\"/kaggle/input/advent-data-7/Advent07.txt\") as file:\n",
    "    contents = file.read().splitlines()\n",
    "    \n",
    "data = contents"
   ]
  },
  {
   "cell_type": "markdown",
   "id": "38fa64e9",
   "metadata": {
    "execution": {
     "iopub.execute_input": "2023-12-08T11:57:16.530830Z",
     "iopub.status.busy": "2023-12-08T11:57:16.530019Z",
     "iopub.status.idle": "2023-12-08T11:57:16.538025Z",
     "shell.execute_reply": "2023-12-08T11:57:16.537095Z",
     "shell.execute_reply.started": "2023-12-08T11:57:16.530629Z"
    },
    "papermill": {
     "duration": 0.003079,
     "end_time": "2023-12-08T12:34:30.176904",
     "exception": false,
     "start_time": "2023-12-08T12:34:30.173825",
     "status": "completed"
    },
    "tags": []
   },
   "source": [
    "data = [\"32T3K 765\",\n",
    "\"T55J5 684\",\n",
    "\"KK677 28\",\n",
    "\"KTJJT 220\",\n",
    "\"QQQJA 483\",\n",
    "]"
   ]
  },
  {
   "cell_type": "markdown",
   "id": "7853d066",
   "metadata": {
    "papermill": {
     "duration": 0.002773,
     "end_time": "2023-12-08T12:34:30.182872",
     "exception": false,
     "start_time": "2023-12-08T12:34:30.180099",
     "status": "completed"
    },
    "tags": []
   },
   "source": [
    "Handtypes:\n",
    "\n",
    "*     Five of a kind, where all five cards have the same label: AAAAA\n",
    "*     Four of a kind, where four cards have the same label and one card has a different label: AA8AA\n",
    "*     Full house, where three cards have the same label, and the remaining two cards share a different label: 23332\n",
    "*     Three of a kind, where three cards have the same label, and the remaining two cards are each different from any other card in the hand: TTT98\n",
    "*     Two pair, where two cards share one label, two other cards share a second label, and the remaining card has a third label: 23432\n",
    "*     One pair, where two cards share one label, and the other three cards have a different label from the pair and each other: A23A4\n",
    "*     High card, where all cards' labels are distinct: 23456\n",
    "\n",
    "Hands are primarily ordered based on type; for example, every full house is stronger than any three of a kind.\n",
    "If two hands have the same type, a second ordering rule takes effect. Start by comparing the first card in each hand.\n",
    "A hand consists of five cards labeled one of A, K, Q, J, T, 9, 8, 7, 6, 5, 4, 3, or 2."
   ]
  },
  {
   "cell_type": "code",
   "execution_count": 3,
   "id": "6fbbd766",
   "metadata": {
    "execution": {
     "iopub.execute_input": "2023-12-08T12:34:30.190922Z",
     "iopub.status.busy": "2023-12-08T12:34:30.190298Z",
     "iopub.status.idle": "2023-12-08T12:34:30.220535Z",
     "shell.execute_reply": "2023-12-08T12:34:30.219695Z"
    },
    "papermill": {
     "duration": 0.036805,
     "end_time": "2023-12-08T12:34:30.222656",
     "exception": false,
     "start_time": "2023-12-08T12:34:30.185851",
     "status": "completed"
    },
    "tags": []
   },
   "outputs": [
    {
     "name": "stdout",
     "output_type": "stream",
     "text": [
      "{'2': 1, '3': 2, '4': 3, '5': 4, '6': 5, '7': 6, '8': 7, '9': 8, 'T': 9, 'J': 10, 'Q': 11, 'K': 12, 'A': 13} \n",
      "\n"
     ]
    }
   ],
   "source": [
    "import collections as C\n",
    "\n",
    "result = 0\n",
    "\n",
    "value = {}\n",
    "for i,num in enumerate([\"2\",\"3\",\"4\",\"5\",\"6\",\"7\",\"8\",\"9\",\"T\",\"J\",\"Q\",\"K\",\"A\"]):\n",
    "    value[num] = i+1\n",
    "print(value, \"\\n\")\n",
    "\n",
    "cards = {}\n",
    "\n",
    "for x in range(len(data)):\n",
    "    hand = data[x].split()[0]\n",
    "    bid = data[x].split()[1]\n",
    "    n = C.Counter(hand).most_common()\n",
    "    hand_value = 0\n",
    "    if n[0][1] == 1:\n",
    "        for sym in hand:\n",
    "            if value[sym] > hand_value:\n",
    "                hand_value = value[sym]\n",
    "    else:\n",
    "        if n[0][1] == 2 and n[1][1] != 2:\n",
    "            hand_value = 15\n",
    "        if n[0][1] == 2 and n[1][1] == 2:\n",
    "            hand_value = 20\n",
    "        if n[0][1] == 3 and n[1][1] != 2:\n",
    "            hand_value = 30\n",
    "        if n[0][1] == 3 and n[1][1] == 2:\n",
    "            hand_value = 40\n",
    "        if n[0][1] == 4:\n",
    "            hand_value = 50\n",
    "        if n[0][1] == 5:\n",
    "            hand_value = 60\n",
    "        \n",
    "    cards[hand] = bid, hand_value\n",
    "    # print(f\"Hand: {hand}, Bid: {bid}, Amounts: {n}, Handvalue: {hand_value}\")\n",
    "    \n",
    "sorted_cards = pd.DataFrame.from_dict(dict(sorted(cards.items(), key=lambda x:x[1][1])), orient=\"index\")\n",
    "sorted_cards = sorted_cards.reset_index()\n",
    "sorted_cards.rename(columns={\"index\":\"Hand\",0:\"Bid\", 1:\"Value\"}, inplace=True)"
   ]
  },
  {
   "cell_type": "code",
   "execution_count": 4,
   "id": "53bd2774",
   "metadata": {
    "execution": {
     "iopub.execute_input": "2023-12-08T12:34:30.230727Z",
     "iopub.status.busy": "2023-12-08T12:34:30.230359Z",
     "iopub.status.idle": "2023-12-08T12:34:30.262248Z",
     "shell.execute_reply": "2023-12-08T12:34:30.261104Z"
    },
    "papermill": {
     "duration": 0.038433,
     "end_time": "2023-12-08T12:34:30.264403",
     "exception": false,
     "start_time": "2023-12-08T12:34:30.225970",
     "status": "completed"
    },
    "tags": []
   },
   "outputs": [
    {
     "name": "stdout",
     "output_type": "stream",
     "text": [
      "250736116\n"
     ]
    }
   ],
   "source": [
    "def sorter(item):\n",
    "    first = value[item[0]]\n",
    "    second = value[item[1]]\n",
    "    third = value[item[2]]\n",
    "    fourth = value[item[3]]\n",
    "    fifth = value[item[4]]  \n",
    "    return(first,second,third,fourth,fifth)\n",
    "\n",
    "list_cards = []\n",
    "\n",
    "for v in sorted_cards[\"Value\"].unique():\n",
    "    val = []\n",
    "    for case in sorted_cards[sorted_cards[\"Value\"]==v].values:\n",
    "        # print(case)\n",
    "        val.append(case[0])\n",
    "    val.sort(key=sorter)\n",
    "    list_cards.append(val)\n",
    "\n",
    "v_dict = dict(sorted(cards.items(), key=lambda x:x[1][1]))\n",
    "bid = []\n",
    "for x in sum(list_cards,[]):\n",
    "    a = v_dict[x][0]\n",
    "    bid.append(a)\n",
    "\n",
    "sorted_cards[\"Hand\"] = sum(list_cards,[])\n",
    "sorted_cards[\"Bid\"] = bid\n",
    "sorted_cards[\"Rank\"] = sorted_cards[\"Value\"].rank(method=\"first\")\n",
    "sorted_cards[\"Winnings\"] = sorted_cards[\"Bid\"].astype(int)*sorted_cards[\"Rank\"].astype(int)\n",
    "print(sorted_cards[\"Winnings\"].sum())"
   ]
  },
  {
   "cell_type": "code",
   "execution_count": 5,
   "id": "cde785fc",
   "metadata": {
    "execution": {
     "iopub.execute_input": "2023-12-08T12:34:30.272599Z",
     "iopub.status.busy": "2023-12-08T12:34:30.272204Z",
     "iopub.status.idle": "2023-12-08T12:34:30.288863Z",
     "shell.execute_reply": "2023-12-08T12:34:30.287692Z"
    },
    "papermill": {
     "duration": 0.023301,
     "end_time": "2023-12-08T12:34:30.291145",
     "exception": false,
     "start_time": "2023-12-08T12:34:30.267844",
     "status": "completed"
    },
    "tags": []
   },
   "outputs": [
    {
     "name": "stdout",
     "output_type": "stream",
     "text": [
      "      Hand  Bid  Value    Rank  Winnings\n",
      "0    43682  205      7     1.0       205\n",
      "1    42589  818      8     2.0      1636\n",
      "2    45697  346      8     3.0      1038\n",
      "3    63259  518      8     4.0      2072\n",
      "4    72569  737      8     5.0      3685\n",
      "..     ...  ...    ...     ...       ...\n",
      "995  AA9AA  337     50   996.0    335652\n",
      "996  AAA7A  571     50   997.0    569287\n",
      "997  AAAJA  550     50   998.0    548900\n",
      "998  AAAA6  986     50   999.0    985014\n",
      "999  JJJJJ  517     60  1000.0    517000\n",
      "\n",
      "[1000 rows x 5 columns]\n"
     ]
    }
   ],
   "source": [
    "print(sorted_cards)"
   ]
  },
  {
   "cell_type": "markdown",
   "id": "7332d0c1",
   "metadata": {
    "papermill": {
     "duration": 0.002981,
     "end_time": "2023-12-08T12:34:30.297472",
     "exception": false,
     "start_time": "2023-12-08T12:34:30.294491",
     "status": "completed"
    },
    "tags": []
   },
   "source": [
    "# Solution from the subreddit because i couldnt figure out where i was mistake was..."
   ]
  },
  {
   "cell_type": "code",
   "execution_count": 6,
   "id": "38f8696f",
   "metadata": {
    "execution": {
     "iopub.execute_input": "2023-12-08T12:34:30.305527Z",
     "iopub.status.busy": "2023-12-08T12:34:30.304945Z",
     "iopub.status.idle": "2023-12-08T12:34:30.315804Z",
     "shell.execute_reply": "2023-12-08T12:34:30.314607Z"
    },
    "papermill": {
     "duration": 0.017354,
     "end_time": "2023-12-08T12:34:30.317907",
     "exception": false,
     "start_time": "2023-12-08T12:34:30.300553",
     "status": "completed"
    },
    "tags": []
   },
   "outputs": [
    {
     "name": "stdout",
     "output_type": "stream",
     "text": [
      "250946742\n"
     ]
    }
   ],
   "source": [
    "data_raw = data\n",
    "\n",
    "print(\n",
    "    sum(\n",
    "        (rank0 + 1) * bid\n",
    "        for rank0, (*_, bid) in enumerate(\n",
    "            sorted(\n",
    "                (\n",
    "                    max(map(hand.count, hand)),\n",
    "                    -len(set(hand)),\n",
    "                    *map(\"23456789TJQKA\".index, hand),\n",
    "                    int(str_bid),\n",
    "                )\n",
    "                for hand, str_bid in map(str.split, data_raw)\n",
    "            )\n",
    "        )\n",
    "    )\n",
    ")"
   ]
  }
 ],
 "metadata": {
  "kaggle": {
   "accelerator": "none",
   "dataSources": [
    {
     "datasetId": 4125963,
     "sourceId": 7147100,
     "sourceType": "datasetVersion"
    }
   ],
   "dockerImageVersionId": 30587,
   "isGpuEnabled": false,
   "isInternetEnabled": true,
   "language": "python",
   "sourceType": "notebook"
  },
  "kernelspec": {
   "display_name": "Python 3",
   "language": "python",
   "name": "python3"
  },
  "language_info": {
   "codemirror_mode": {
    "name": "ipython",
    "version": 3
   },
   "file_extension": ".py",
   "mimetype": "text/x-python",
   "name": "python",
   "nbconvert_exporter": "python",
   "pygments_lexer": "ipython3",
   "version": "3.10.12"
  },
  "papermill": {
   "default_parameters": {},
   "duration": 4.456204,
   "end_time": "2023-12-08T12:34:30.740869",
   "environment_variables": {},
   "exception": null,
   "input_path": "__notebook__.ipynb",
   "output_path": "__notebook__.ipynb",
   "parameters": {},
   "start_time": "2023-12-08T12:34:26.284665",
   "version": "2.4.0"
  }
 },
 "nbformat": 4,
 "nbformat_minor": 5
}
