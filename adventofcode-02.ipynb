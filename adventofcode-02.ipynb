{
 "cells": [
  {
   "cell_type": "markdown",
   "id": "be98c14e",
   "metadata": {
    "papermill": {
     "duration": 0.002819,
     "end_time": "2023-12-02T11:37:41.961242",
     "exception": false,
     "start_time": "2023-12-02T11:37:41.958423",
     "status": "completed"
    },
    "tags": []
   },
   "source": [
    "# ADVENT OF CODE 2023 - DAY 2\n",
    "I am being shown a bag filled with random amounts of red, green and blue cubes. Each game a random amount of cubes of any random color is shown. \n",
    "Determine which games would have been possible if the bag had been loaded with only 12 red cubes, 13 green cubes, and 14 blue cubes. What is the sum of the IDs of those games?"
   ]
  },
  {
   "cell_type": "markdown",
   "id": "63beff66",
   "metadata": {
    "papermill": {
     "duration": 0.003549,
     "end_time": "2023-12-02T11:37:41.967122",
     "exception": false,
     "start_time": "2023-12-02T11:37:41.963573",
     "status": "completed"
    },
    "tags": []
   },
   "source": [
    "Importing the initial libraries and uploading the file as a .txt for simpler handling."
   ]
  },
  {
   "cell_type": "code",
   "execution_count": 1,
   "id": "bb16acc7",
   "metadata": {
    "_cell_guid": "b1076dfc-b9ad-4769-8c92-a6c4dae69d19",
    "_uuid": "8f2839f25d086af736a60e9eeb907d3b93b6e0e5",
    "execution": {
     "iopub.execute_input": "2023-12-02T11:37:41.973574Z",
     "iopub.status.busy": "2023-12-02T11:37:41.972741Z",
     "iopub.status.idle": "2023-12-02T11:37:42.265444Z",
     "shell.execute_reply": "2023-12-02T11:37:42.264458Z"
    },
    "papermill": {
     "duration": 0.298032,
     "end_time": "2023-12-02T11:37:42.267311",
     "exception": false,
     "start_time": "2023-12-02T11:37:41.969279",
     "status": "completed"
    },
    "tags": []
   },
   "outputs": [],
   "source": [
    "import numpy as np\n",
    "import pandas as pd\n",
    "import re"
   ]
  },
  {
   "cell_type": "code",
   "execution_count": 2,
   "id": "d784a0c3",
   "metadata": {
    "execution": {
     "iopub.execute_input": "2023-12-02T11:37:42.273343Z",
     "iopub.status.busy": "2023-12-02T11:37:42.272993Z",
     "iopub.status.idle": "2023-12-02T11:37:42.282914Z",
     "shell.execute_reply": "2023-12-02T11:37:42.282014Z"
    },
    "papermill": {
     "duration": 0.014993,
     "end_time": "2023-12-02T11:37:42.284828",
     "exception": false,
     "start_time": "2023-12-02T11:37:42.269835",
     "status": "completed"
    },
    "tags": []
   },
   "outputs": [],
   "source": [
    "data = []\n",
    "with open(r\"/kaggle/input/advent-data-2/Advent02.txt\") as file:\n",
    "    for x in file:\n",
    "        data.append(x)"
   ]
  },
  {
   "cell_type": "markdown",
   "id": "dfc02d36",
   "metadata": {
    "papermill": {
     "duration": 0.002015,
     "end_time": "2023-12-02T11:37:42.289224",
     "exception": false,
     "start_time": "2023-12-02T11:37:42.287209",
     "status": "completed"
    },
    "tags": []
   },
   "source": [
    "# Challenge 1\n",
    "Similar to the first day challenge. We iterate through each row of our data, seperating it into a list for each color, consisting of a number and the corresponding color.\n",
    "Then we go through each list to check for any amount of cubes higher than the allowed. In the end we sum together the id's of each game with a possible amount of cubes."
   ]
  },
  {
   "cell_type": "code",
   "execution_count": 3,
   "id": "dbd027b8",
   "metadata": {
    "execution": {
     "iopub.execute_input": "2023-12-02T11:37:42.295010Z",
     "iopub.status.busy": "2023-12-02T11:37:42.294669Z",
     "iopub.status.idle": "2023-12-02T11:37:42.306572Z",
     "shell.execute_reply": "2023-12-02T11:37:42.304975Z"
    },
    "papermill": {
     "duration": 0.017481,
     "end_time": "2023-12-02T11:37:42.308931",
     "exception": false,
     "start_time": "2023-12-02T11:37:42.291450",
     "status": "completed"
    },
    "tags": []
   },
   "outputs": [
    {
     "name": "stdout",
     "output_type": "stream",
     "text": [
      "2239\n"
     ]
    }
   ],
   "source": [
    "result = 0\n",
    "for i, x in enumerate(data):\n",
    "    switch = True\n",
    "    id_game = i+1\n",
    "    # print(id_game, \": \", x)\n",
    "    red = re.findall(\"([0-9]+ red)\",x)\n",
    "    green = re.findall(\"([0-9]+ green)\",x)\n",
    "    blue = re.findall(\"([0-9]+ blue)\",x)\n",
    "    for color in [red,green,blue]:\n",
    "        for item in color:\n",
    "            num = re.search(\"[0-9][0-9]\", item)\n",
    "            if (num):\n",
    "                if color == red:\n",
    "                    if int(num.group()) > 12:\n",
    "                        switch = False\n",
    "                elif color == green:\n",
    "                    if int(num.group()) > 13:\n",
    "                        switch = False\n",
    "                elif color == blue:\n",
    "                    if int(num.group()) > 14:\n",
    "                        switch = False\n",
    "    \n",
    "    if not (switch):\n",
    "        continue\n",
    "    result += id_game\n",
    "\n",
    "print(result)\n",
    "        "
   ]
  },
  {
   "cell_type": "markdown",
   "id": "63d7212a",
   "metadata": {
    "papermill": {
     "duration": 0.002166,
     "end_time": "2023-12-02T11:37:42.313682",
     "exception": false,
     "start_time": "2023-12-02T11:37:42.311516",
     "status": "completed"
    },
    "tags": []
   },
   "source": [
    "# Challenge 2\n",
    "This time we split each list into numbers and colors and create a dictionary from this information by always substituting by the biggest number by color. Then we multiply these and add the results together. "
   ]
  },
  {
   "cell_type": "code",
   "execution_count": 4,
   "id": "b33da164",
   "metadata": {
    "execution": {
     "iopub.execute_input": "2023-12-02T11:37:42.319536Z",
     "iopub.status.busy": "2023-12-02T11:37:42.319261Z",
     "iopub.status.idle": "2023-12-02T11:37:42.328575Z",
     "shell.execute_reply": "2023-12-02T11:37:42.328001Z"
    },
    "papermill": {
     "duration": 0.01447,
     "end_time": "2023-12-02T11:37:42.330512",
     "exception": false,
     "start_time": "2023-12-02T11:37:42.316042",
     "status": "completed"
    },
    "tags": []
   },
   "outputs": [
    {
     "name": "stdout",
     "output_type": "stream",
     "text": [
      "83435\n"
     ]
    }
   ],
   "source": [
    "result = 0\n",
    "for i, x in enumerate(data):\n",
    "    power = 1\n",
    "    c_dict = {\"red\":0, \"green\":0, \"blue\":0}\n",
    "    id_game = i+1\n",
    "    # print(id_game, \": \", x)\n",
    "    red = re.findall(\"([0-9]+ red)\",x)\n",
    "    green = re.findall(\"([0-9]+ green)\",x)\n",
    "    blue = re.findall(\"([0-9]+ blue)\",x)\n",
    "    for color in [red,green,blue]:\n",
    "        for item in color:\n",
    "            numbers = re.split(\"\\s\", item)\n",
    "            n = int(numbers[0]); c = numbers[1]\n",
    "            if n > c_dict[c]:\n",
    "                c_dict[c] = n\n",
    "    \n",
    "    for x in c_dict.values():\n",
    "        power *= x\n",
    "    result += power\n",
    "\n",
    "print(result)\n",
    "        "
   ]
  },
  {
   "cell_type": "markdown",
   "id": "70b027d0",
   "metadata": {
    "papermill": {
     "duration": 0.002187,
     "end_time": "2023-12-02T11:37:42.335297",
     "exception": false,
     "start_time": "2023-12-02T11:37:42.333110",
     "status": "completed"
    },
    "tags": []
   },
   "source": [
    "# Challenge Day 02 successfully solved :)"
   ]
  }
 ],
 "metadata": {
  "kaggle": {
   "accelerator": "none",
   "dataSources": [
    {
     "datasetId": 4095734,
     "sourceId": 7104559,
     "sourceType": "datasetVersion"
    }
   ],
   "dockerImageVersionId": 30587,
   "isGpuEnabled": false,
   "isInternetEnabled": true,
   "language": "python",
   "sourceType": "notebook"
  },
  "kernelspec": {
   "display_name": "Python 3",
   "language": "python",
   "name": "python3"
  },
  "language_info": {
   "codemirror_mode": {
    "name": "ipython",
    "version": 3
   },
   "file_extension": ".py",
   "mimetype": "text/x-python",
   "name": "python",
   "nbconvert_exporter": "python",
   "pygments_lexer": "ipython3",
   "version": "3.10.12"
  },
  "papermill": {
   "default_parameters": {},
   "duration": 3.189568,
   "end_time": "2023-12-02T11:37:42.755848",
   "environment_variables": {},
   "exception": null,
   "input_path": "__notebook__.ipynb",
   "output_path": "__notebook__.ipynb",
   "parameters": {},
   "start_time": "2023-12-02T11:37:39.566280",
   "version": "2.4.0"
  }
 },
 "nbformat": 4,
 "nbformat_minor": 5
}
