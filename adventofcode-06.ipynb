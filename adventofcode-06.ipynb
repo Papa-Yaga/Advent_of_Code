{
 "cells": [
  {
   "cell_type": "markdown",
   "id": "8223e699",
   "metadata": {
    "_cell_guid": "b1076dfc-b9ad-4769-8c92-a6c4dae69d19",
    "_uuid": "8f2839f25d086af736a60e9eeb907d3b93b6e0e5",
    "papermill": {
     "duration": 0.003258,
     "end_time": "2023-12-06T20:50:27.972370",
     "exception": false,
     "start_time": "2023-12-06T20:50:27.969112",
     "status": "completed"
    },
    "tags": []
   },
   "source": [
    "# ADVENT OF CODE 2023 - DAY 06\n",
    "\n",
    "I am being shown a slip of paper with times and records for a race. The time is in milliseconds and the records are in millimeters, spent and travelled respectively.\n",
    "Spending 1 millisecond charging my race unit makes it travel 1 millimeter. How many options to win have i?"
   ]
  },
  {
   "cell_type": "code",
   "execution_count": 1,
   "id": "95bbf0ea",
   "metadata": {
    "execution": {
     "iopub.execute_input": "2023-12-06T20:50:27.981245Z",
     "iopub.status.busy": "2023-12-06T20:50:27.980856Z",
     "iopub.status.idle": "2023-12-06T20:50:28.300379Z",
     "shell.execute_reply": "2023-12-06T20:50:28.299353Z"
    },
    "papermill": {
     "duration": 0.327974,
     "end_time": "2023-12-06T20:50:28.302951",
     "exception": false,
     "start_time": "2023-12-06T20:50:27.974977",
     "status": "completed"
    },
    "tags": []
   },
   "outputs": [],
   "source": [
    "import numpy as np\n",
    "import pandas as pd\n",
    "import re"
   ]
  },
  {
   "cell_type": "code",
   "execution_count": 2,
   "id": "f9b8ccc6",
   "metadata": {
    "execution": {
     "iopub.execute_input": "2023-12-06T20:50:28.310342Z",
     "iopub.status.busy": "2023-12-06T20:50:28.309801Z",
     "iopub.status.idle": "2023-12-06T20:50:28.319184Z",
     "shell.execute_reply": "2023-12-06T20:50:28.317090Z"
    },
    "papermill": {
     "duration": 0.016039,
     "end_time": "2023-12-06T20:50:28.321909",
     "exception": false,
     "start_time": "2023-12-06T20:50:28.305870",
     "status": "completed"
    },
    "tags": []
   },
   "outputs": [],
   "source": [
    "with open(r\"/kaggle/input/advent-data-6/Advent06.txt\") as file:\n",
    "    contents = file.read()\n",
    "    \n",
    "data = contents.splitlines()"
   ]
  },
  {
   "cell_type": "markdown",
   "id": "29127ad7",
   "metadata": {
    "papermill": {
     "duration": 0.002428,
     "end_time": "2023-12-06T20:50:28.327237",
     "exception": false,
     "start_time": "2023-12-06T20:50:28.324809",
     "status": "completed"
    },
    "tags": []
   },
   "source": [
    "# Challenge 1\n",
    "In the first challenge we are supposed to find the margin of error by multiplying the amount of possible recordbreaking distances per race.\n",
    "First i extract the given information from the data. Seperating the data into each individual race with its timelimit and records."
   ]
  },
  {
   "cell_type": "code",
   "execution_count": 3,
   "id": "a5e19488",
   "metadata": {
    "execution": {
     "iopub.execute_input": "2023-12-06T20:50:28.335781Z",
     "iopub.status.busy": "2023-12-06T20:50:28.335375Z",
     "iopub.status.idle": "2023-12-06T20:50:28.342207Z",
     "shell.execute_reply": "2023-12-06T20:50:28.341456Z"
    },
    "papermill": {
     "duration": 0.014103,
     "end_time": "2023-12-06T20:50:28.344911",
     "exception": false,
     "start_time": "2023-12-06T20:50:28.330808",
     "status": "completed"
    },
    "tags": []
   },
   "outputs": [
    {
     "name": "stdout",
     "output_type": "stream",
     "text": [
      "race_1 ('54', '302')\n",
      "race_2 ('94', '1476')\n",
      "race_3 ('65', '1029')\n",
      "race_4 ('92', '1404')\n"
     ]
    }
   ],
   "source": [
    "values = []\n",
    "for x in data:\n",
    "    num = x.split(\" \")[1:]\n",
    "    values.append(list(filter(None, num)))\n",
    "race_values = {}\n",
    "for i in range(4):\n",
    "    race_values[\"race_\"+str(i+1)] = values[0][i], values[1][i]\n",
    "for race in race_values:\n",
    "    print(race, race_values[race])"
   ]
  },
  {
   "cell_type": "markdown",
   "id": "ba83cec9",
   "metadata": {
    "papermill": {
     "duration": 0.002411,
     "end_time": "2023-12-06T20:50:28.350223",
     "exception": false,
     "start_time": "2023-12-06T20:50:28.347812",
     "status": "completed"
    },
    "tags": []
   },
   "source": [
    "Fairly straightforward; we calculate the margin of errors by multiplying the remaining time by the time spent charging our unit. Each time the result is greater than the given record we add one to our end result."
   ]
  },
  {
   "cell_type": "code",
   "execution_count": 4,
   "id": "ff001c38",
   "metadata": {
    "execution": {
     "iopub.execute_input": "2023-12-06T20:50:28.358038Z",
     "iopub.status.busy": "2023-12-06T20:50:28.356624Z",
     "iopub.status.idle": "2023-12-06T20:50:28.364532Z",
     "shell.execute_reply": "2023-12-06T20:50:28.362857Z"
    },
    "papermill": {
     "duration": 0.013923,
     "end_time": "2023-12-06T20:50:28.366691",
     "exception": false,
     "start_time": "2023-12-06T20:50:28.352768",
     "status": "completed"
    },
    "tags": []
   },
   "outputs": [
    {
     "name": "stdout",
     "output_type": "stream",
     "text": [
      "1195150\n"
     ]
    }
   ],
   "source": [
    "result = 1\n",
    "for race in race_values:\n",
    "    x = 0\n",
    "    time = int(race_values[race][0])\n",
    "    record = int(race_values[race][1])\n",
    "    for prep in range(time+1):\n",
    "        # print(f\"{prep} * ({time} - {prep}) = {prep*(time-prep)} | {record}\")\n",
    "        if prep * (time-prep) > record:\n",
    "            x += 1\n",
    "    result *= x\n",
    "print(result)"
   ]
  },
  {
   "cell_type": "markdown",
   "id": "df4029e9",
   "metadata": {
    "papermill": {
     "duration": 0.002624,
     "end_time": "2023-12-06T20:50:28.372222",
     "exception": false,
     "start_time": "2023-12-06T20:50:28.369598",
     "status": "completed"
    },
    "tags": []
   },
   "source": [
    "# Challenge 2\n",
    "This time it really is just about the amount of winning times, so we do the same as before and output just the amount."
   ]
  },
  {
   "cell_type": "code",
   "execution_count": 5,
   "id": "55c833dc",
   "metadata": {
    "execution": {
     "iopub.execute_input": "2023-12-06T20:50:28.379741Z",
     "iopub.status.busy": "2023-12-06T20:50:28.379394Z",
     "iopub.status.idle": "2023-12-06T20:50:39.182900Z",
     "shell.execute_reply": "2023-12-06T20:50:39.181998Z"
    },
    "papermill": {
     "duration": 10.809753,
     "end_time": "2023-12-06T20:50:39.184845",
     "exception": false,
     "start_time": "2023-12-06T20:50:28.375092",
     "status": "completed"
    },
    "tags": []
   },
   "outputs": [
    {
     "name": "stdout",
     "output_type": "stream",
     "text": [
      "42550411\n"
     ]
    }
   ],
   "source": [
    "result_2 = 0\n",
    "race_value = []\n",
    "for x in values:\n",
    "    add = \"\"\n",
    "    for num in x:\n",
    "        add += num\n",
    "    race_value.append(add)\n",
    "    \n",
    "time = int(race_value[0])\n",
    "record = int(race_value[1])\n",
    "for prep in range(time+1):\n",
    "    if prep * (time-prep) > record:\n",
    "            result_2 += 1\n",
    "print(result_2)"
   ]
  },
  {
   "cell_type": "markdown",
   "id": "a331c5e7",
   "metadata": {
    "papermill": {
     "duration": 0.002447,
     "end_time": "2023-12-06T20:50:39.190207",
     "exception": false,
     "start_time": "2023-12-06T20:50:39.187760",
     "status": "completed"
    },
    "tags": []
   },
   "source": [
    "# Challenge Day 06 successfully solved :)"
   ]
  }
 ],
 "metadata": {
  "kaggle": {
   "accelerator": "none",
   "dataSources": [
    {
     "datasetId": 4121668,
     "sourceId": 7141141,
     "sourceType": "datasetVersion"
    }
   ],
   "dockerImageVersionId": 30587,
   "isGpuEnabled": false,
   "isInternetEnabled": true,
   "language": "python",
   "sourceType": "notebook"
  },
  "kernelspec": {
   "display_name": "Python 3",
   "language": "python",
   "name": "python3"
  },
  "language_info": {
   "codemirror_mode": {
    "name": "ipython",
    "version": 3
   },
   "file_extension": ".py",
   "mimetype": "text/x-python",
   "name": "python",
   "nbconvert_exporter": "python",
   "pygments_lexer": "ipython3",
   "version": "3.10.12"
  },
  "papermill": {
   "default_parameters": {},
   "duration": 14.365167,
   "end_time": "2023-12-06T20:50:39.613919",
   "environment_variables": {},
   "exception": null,
   "input_path": "__notebook__.ipynb",
   "output_path": "__notebook__.ipynb",
   "parameters": {},
   "start_time": "2023-12-06T20:50:25.248752",
   "version": "2.4.0"
  }
 },
 "nbformat": 4,
 "nbformat_minor": 5
}
