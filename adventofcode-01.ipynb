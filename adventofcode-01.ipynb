{
 "cells": [
  {
   "cell_type": "markdown",
   "id": "f637efbc",
   "metadata": {
    "papermill": {
     "duration": 0.003864,
     "end_time": "2023-12-02T01:12:17.132071",
     "exception": false,
     "start_time": "2023-12-02T01:12:17.128207",
     "status": "completed"
    },
    "tags": []
   },
   "source": [
    "# ADVENT OF CODE 2023 - DAY 1\n",
    "\n",
    "Received a document consisting of multiple lines of text, each line originally containing a specific calibration value that the Elves now need to recover. \n",
    "On each line, the calibration value can be found by combining the first digit and the last digit (in that order) to form a single two-digit number."
   ]
  },
  {
   "cell_type": "markdown",
   "id": "6aaa9769",
   "metadata": {
    "papermill": {
     "duration": 0.003593,
     "end_time": "2023-12-02T01:12:17.141087",
     "exception": false,
     "start_time": "2023-12-02T01:12:17.137494",
     "status": "completed"
    },
    "tags": []
   },
   "source": [
    "Importing the initial libraries and uploading the file as a .txt for simpler handling."
   ]
  },
  {
   "cell_type": "code",
   "execution_count": 1,
   "id": "cb7d2e60",
   "metadata": {
    "_cell_guid": "b1076dfc-b9ad-4769-8c92-a6c4dae69d19",
    "_uuid": "8f2839f25d086af736a60e9eeb907d3b93b6e0e5",
    "execution": {
     "iopub.execute_input": "2023-12-02T01:12:17.150133Z",
     "iopub.status.busy": "2023-12-02T01:12:17.149686Z",
     "iopub.status.idle": "2023-12-02T01:12:17.989394Z",
     "shell.execute_reply": "2023-12-02T01:12:17.987876Z"
    },
    "papermill": {
     "duration": 0.84766,
     "end_time": "2023-12-02T01:12:17.992667",
     "exception": false,
     "start_time": "2023-12-02T01:12:17.145007",
     "status": "completed"
    },
    "tags": []
   },
   "outputs": [],
   "source": [
    "import pandas as pd\n",
    "import numpy as np\n",
    "import re\n"
   ]
  },
  {
   "cell_type": "code",
   "execution_count": 2,
   "id": "8e1ac193",
   "metadata": {
    "execution": {
     "iopub.execute_input": "2023-12-02T01:12:18.002297Z",
     "iopub.status.busy": "2023-12-02T01:12:18.001699Z",
     "iopub.status.idle": "2023-12-02T01:12:18.017071Z",
     "shell.execute_reply": "2023-12-02T01:12:18.016191Z"
    },
    "papermill": {
     "duration": 0.022965,
     "end_time": "2023-12-02T01:12:18.019656",
     "exception": false,
     "start_time": "2023-12-02T01:12:17.996691",
     "status": "completed"
    },
    "tags": []
   },
   "outputs": [],
   "source": [
    "data = []\n",
    "with open(r\"/kaggle/input/advent-data/Advent01.txt\") as file:\n",
    "    for x in file:\n",
    "        data.append(x)"
   ]
  },
  {
   "cell_type": "markdown",
   "id": "218a9080",
   "metadata": {
    "papermill": {
     "duration": 0.002739,
     "end_time": "2023-12-02T01:12:18.025837",
     "exception": false,
     "start_time": "2023-12-02T01:12:18.023098",
     "status": "completed"
    },
    "tags": []
   },
   "source": [
    "# Challenge 1\n",
    "We iterate through each row of the data, find every number, and append the first and last digit to a single list. \n",
    "Now we can convert this list into an array and output the sum of all numbers."
   ]
  },
  {
   "cell_type": "code",
   "execution_count": 3,
   "id": "02f711a8",
   "metadata": {
    "execution": {
     "iopub.execute_input": "2023-12-02T01:12:18.034264Z",
     "iopub.status.busy": "2023-12-02T01:12:18.033043Z",
     "iopub.status.idle": "2023-12-02T01:12:18.043864Z",
     "shell.execute_reply": "2023-12-02T01:12:18.041648Z"
    },
    "papermill": {
     "duration": 0.017026,
     "end_time": "2023-12-02T01:12:18.045821",
     "exception": false,
     "start_time": "2023-12-02T01:12:18.028795",
     "status": "completed"
    },
    "tags": []
   },
   "outputs": [
    {
     "name": "stdout",
     "output_type": "stream",
     "text": [
      "54968\n"
     ]
    }
   ],
   "source": [
    "numbers = []\n",
    "for w in data:\n",
    "    y = re.findall(\"[0-9]\",w)\n",
    "    numbers.append(y[0]+y[-1])\n",
    "\n",
    "numbers_array = np.asarray(numbers)\n",
    "print(sum(numbers_array.astype(int)))\n",
    "# 54968"
   ]
  },
  {
   "cell_type": "markdown",
   "id": "cc3ff99b",
   "metadata": {
    "papermill": {
     "duration": 0.002769,
     "end_time": "2023-12-02T01:12:18.051953",
     "exception": false,
     "start_time": "2023-12-02T01:12:18.049184",
     "status": "completed"
    },
    "tags": []
   },
   "source": [
    "# Installing a module to simplify conversion of digit-words into numbers.\n"
   ]
  },
  {
   "cell_type": "code",
   "execution_count": 4,
   "id": "4dccc25b",
   "metadata": {
    "execution": {
     "iopub.execute_input": "2023-12-02T01:12:18.059863Z",
     "iopub.status.busy": "2023-12-02T01:12:18.059178Z",
     "iopub.status.idle": "2023-12-02T01:12:29.612241Z",
     "shell.execute_reply": "2023-12-02T01:12:29.611329Z"
    },
    "papermill": {
     "duration": 11.560079,
     "end_time": "2023-12-02T01:12:29.614884",
     "exception": false,
     "start_time": "2023-12-02T01:12:18.054805",
     "status": "completed"
    },
    "tags": []
   },
   "outputs": [
    {
     "name": "stdout",
     "output_type": "stream",
     "text": [
      "Collecting wordtodigits\r\n",
      "  Downloading wordtodigits-1.0.2-py3-none-any.whl (3.8 kB)\r\n",
      "Installing collected packages: wordtodigits\r\n",
      "Successfully installed wordtodigits-1.0.2\r\n"
     ]
    }
   ],
   "source": [
    "!pip install wordtodigits\n",
    "import wordtodigits as w2d"
   ]
  },
  {
   "cell_type": "markdown",
   "id": "ec95cb28",
   "metadata": {
    "papermill": {
     "duration": 0.003077,
     "end_time": "2023-12-02T01:12:29.621737",
     "exception": false,
     "start_time": "2023-12-02T01:12:29.618660",
     "status": "completed"
    },
    "tags": []
   },
   "source": [
    "# Challenge 2\n",
    "Similar to the first challenge, we iterate through our data to find fitting matches. We include the letters for every number."
   ]
  },
  {
   "cell_type": "code",
   "execution_count": 5,
   "id": "40cd97a0",
   "metadata": {
    "execution": {
     "iopub.execute_input": "2023-12-02T01:12:29.631492Z",
     "iopub.status.busy": "2023-12-02T01:12:29.631083Z",
     "iopub.status.idle": "2023-12-02T01:12:29.636202Z",
     "shell.execute_reply": "2023-12-02T01:12:29.635083Z"
    },
    "papermill": {
     "duration": 0.014634,
     "end_time": "2023-12-02T01:12:29.639445",
     "exception": false,
     "start_time": "2023-12-02T01:12:29.624811",
     "status": "completed"
    },
    "tags": []
   },
   "outputs": [],
   "source": [
    "# An initial approach at the second challenge. \n",
    "\n",
    "# numbers_words = []\n",
    "# for w in data:\n",
    "#     y = re.findall(\"[0-9]|one|two|three|four|five|six|seven|eight|nine\",w)\n",
    "#     numbers_words.append(w2d.convert(y[0])+w2d.convert(y[-1]))\n",
    "    \n",
    "# numbers_array_2 = np.asarray(numbers_words)\n",
    "\n",
    "# Checking the amount of values against the first result.\n",
    "# print(len(numbers_array), \" - \", len(numbers_array_2))\n",
    "# print(sum(numbers_array_2.astype(int)))"
   ]
  },
  {
   "cell_type": "markdown",
   "id": "a4063621",
   "metadata": {
    "papermill": {
     "duration": 0.003101,
     "end_time": "2023-12-02T01:12:29.646343",
     "exception": false,
     "start_time": "2023-12-02T01:12:29.643242",
     "status": "completed"
    },
    "tags": []
   },
   "source": [
    "Since the above result was not correct i had to take a hint from the subreddit after long consideration.\n",
    "\n",
    "\"The right calibration values for string \"eighthree\" is 83 and for \"sevenine\" is 79.\" <- This was the information i was missing. \n",
    "\n",
    "In the following approach we have added \"(?=...)\" to our regex to find overlapping patterns in the data. "
   ]
  },
  {
   "cell_type": "code",
   "execution_count": 6,
   "id": "28b0c836",
   "metadata": {
    "execution": {
     "iopub.execute_input": "2023-12-02T01:12:29.654874Z",
     "iopub.status.busy": "2023-12-02T01:12:29.654419Z",
     "iopub.status.idle": "2023-12-02T01:12:29.681280Z",
     "shell.execute_reply": "2023-12-02T01:12:29.680246Z"
    },
    "papermill": {
     "duration": 0.033727,
     "end_time": "2023-12-02T01:12:29.683389",
     "exception": false,
     "start_time": "2023-12-02T01:12:29.649662",
     "status": "completed"
    },
    "tags": []
   },
   "outputs": [
    {
     "name": "stdout",
     "output_type": "stream",
     "text": [
      "1000  -  1000\n",
      "54094\n"
     ]
    }
   ],
   "source": [
    "numbers_words = []\n",
    "for w in data:\n",
    "    y = re.findall(\"(?=([0-9]|one|two|three|four|five|six|seven|eight|nine))\",w)\n",
    "    numbers_words.append(w2d.convert(y[0])+w2d.convert(y[-1]))\n",
    "    \n",
    "numbers_array_2 = np.asarray(numbers_words)\n",
    "\n",
    "# Checking the amount of values against the first result.\n",
    "print(len(numbers_array), \" - \", len(numbers_array_2))\n",
    "print(sum(numbers_array_2.astype(int)))"
   ]
  },
  {
   "cell_type": "markdown",
   "id": "df883d3c",
   "metadata": {
    "papermill": {
     "duration": 0.003079,
     "end_time": "2023-12-02T01:12:29.690110",
     "exception": false,
     "start_time": "2023-12-02T01:12:29.687031",
     "status": "completed"
    },
    "tags": []
   },
   "source": [
    "# Challenge Day 01 successfully solved :)"
   ]
  }
 ],
 "metadata": {
  "kaggle": {
   "accelerator": "none",
   "dataSources": [
    {
     "datasetId": 4093826,
     "sourceId": 7101648,
     "sourceType": "datasetVersion"
    }
   ],
   "dockerImageVersionId": 30587,
   "isGpuEnabled": false,
   "isInternetEnabled": true,
   "language": "python",
   "sourceType": "notebook"
  },
  "kernelspec": {
   "display_name": "Python 3",
   "language": "python",
   "name": "python3"
  },
  "language_info": {
   "codemirror_mode": {
    "name": "ipython",
    "version": 3
   },
   "file_extension": ".py",
   "mimetype": "text/x-python",
   "name": "python",
   "nbconvert_exporter": "python",
   "pygments_lexer": "ipython3",
   "version": "3.10.12"
  },
  "papermill": {
   "default_parameters": {},
   "duration": 17.130784,
   "end_time": "2023-12-02T01:12:30.314434",
   "environment_variables": {},
   "exception": null,
   "input_path": "__notebook__.ipynb",
   "output_path": "__notebook__.ipynb",
   "parameters": {},
   "start_time": "2023-12-02T01:12:13.183650",
   "version": "2.4.0"
  }
 },
 "nbformat": 4,
 "nbformat_minor": 5
}
