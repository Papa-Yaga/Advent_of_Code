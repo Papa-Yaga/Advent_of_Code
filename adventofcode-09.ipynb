{
 "cells": [
  {
   "cell_type": "markdown",
   "id": "efd38ef8",
   "metadata": {
    "_cell_guid": "b1076dfc-b9ad-4769-8c92-a6c4dae69d19",
    "_uuid": "8f2839f25d086af736a60e9eeb907d3b93b6e0e5",
    "papermill": {
     "duration": 0.002929,
     "end_time": "2023-12-10T13:39:10.519834",
     "exception": false,
     "start_time": "2023-12-10T13:39:10.516905",
     "status": "completed"
    },
    "tags": []
   },
   "source": [
    "# ADVENT OF CODE 2023 - DAY 09\n",
    "We are given rows of data that predict environmental changes. Each row consists of multiple numbers that follow a pattern to arrive to the next number. Our task is to find the most up to date number by compairing the numbers and deducting the changes in between them over multiple iterations."
   ]
  },
  {
   "cell_type": "code",
   "execution_count": 1,
   "id": "5e3be449",
   "metadata": {
    "execution": {
     "iopub.execute_input": "2023-12-10T13:39:10.526517Z",
     "iopub.status.busy": "2023-12-10T13:39:10.526153Z",
     "iopub.status.idle": "2023-12-10T13:39:10.840590Z",
     "shell.execute_reply": "2023-12-10T13:39:10.838871Z"
    },
    "papermill": {
     "duration": 0.320648,
     "end_time": "2023-12-10T13:39:10.843090",
     "exception": false,
     "start_time": "2023-12-10T13:39:10.522442",
     "status": "completed"
    },
    "tags": []
   },
   "outputs": [],
   "source": [
    "import numpy as np\n",
    "import pandas as pd\n",
    "import re"
   ]
  },
  {
   "cell_type": "code",
   "execution_count": 2,
   "id": "7e3eeb74",
   "metadata": {
    "execution": {
     "iopub.execute_input": "2023-12-10T13:39:10.850178Z",
     "iopub.status.busy": "2023-12-10T13:39:10.849705Z",
     "iopub.status.idle": "2023-12-10T13:39:10.865153Z",
     "shell.execute_reply": "2023-12-10T13:39:10.864039Z"
    },
    "papermill": {
     "duration": 0.021723,
     "end_time": "2023-12-10T13:39:10.867465",
     "exception": false,
     "start_time": "2023-12-10T13:39:10.845742",
     "status": "completed"
    },
    "tags": []
   },
   "outputs": [],
   "source": [
    "with open(r\"/kaggle/input/advent-09/Advent09.txt\") as file:\n",
    "    contents = file.read().splitlines()\n",
    "data = contents"
   ]
  },
  {
   "cell_type": "markdown",
   "id": "5f41858d",
   "metadata": {
    "execution": {
     "iopub.execute_input": "2023-12-10T13:22:15.565515Z",
     "iopub.status.busy": "2023-12-10T13:22:15.565132Z",
     "iopub.status.idle": "2023-12-10T13:22:15.570949Z",
     "shell.execute_reply": "2023-12-10T13:22:15.569728Z",
     "shell.execute_reply.started": "2023-12-10T13:22:15.565482Z"
    },
    "papermill": {
     "duration": 0.002341,
     "end_time": "2023-12-10T13:39:10.872501",
     "exception": false,
     "start_time": "2023-12-10T13:39:10.870160",
     "status": "completed"
    },
    "tags": []
   },
   "source": [
    "data = [\n",
    "\"0 3 6 9 12 15\",\n",
    "\"1 3 6 10 15 21\",\n",
    "\"10 13 16 21 30 45\",\n",
    "]  "
   ]
  },
  {
   "cell_type": "markdown",
   "id": "61197be0",
   "metadata": {
    "papermill": {
     "duration": 0.002296,
     "end_time": "2023-12-10T13:39:10.877427",
     "exception": false,
     "start_time": "2023-12-10T13:39:10.875131",
     "status": "completed"
    },
    "tags": []
   },
   "source": [
    "# Challenge 1\n",
    "We iterate over each row of our data and substract the following number from the current number, giving us the difference between each pair of numbers in the row. \n",
    "This creates the next row where we then replicate this procedure until we arrive at a row full of zeros. Adding all of the last numbers per row of data together reveals their final predicted value."
   ]
  },
  {
   "cell_type": "code",
   "execution_count": 3,
   "id": "4e11d606",
   "metadata": {
    "execution": {
     "iopub.execute_input": "2023-12-10T13:39:10.884560Z",
     "iopub.status.busy": "2023-12-10T13:39:10.883352Z",
     "iopub.status.idle": "2023-12-10T13:39:10.905776Z",
     "shell.execute_reply": "2023-12-10T13:39:10.904099Z"
    },
    "papermill": {
     "duration": 0.028968,
     "end_time": "2023-12-10T13:39:10.908716",
     "exception": false,
     "start_time": "2023-12-10T13:39:10.879748",
     "status": "completed"
    },
    "tags": []
   },
   "outputs": [
    {
     "name": "stdout",
     "output_type": "stream",
     "text": [
      "2175229206\n"
     ]
    }
   ],
   "source": [
    "result = 0\n",
    "count = 0\n",
    "last = {}\n",
    "\n",
    "def mach(self):\n",
    "    global count\n",
    "    global result\n",
    "    next = []\n",
    "    result += int(self[-1])\n",
    "    for i in range(len(self)):\n",
    "        try: next.append(int(self[i+1]) - int(self[i]))\n",
    "        except:\n",
    "            # print(f\"Cannot append anymore: {next}\")\n",
    "            if next.count(0) != (len(self)-1):\n",
    "                try:\n",
    "                    mach(next)\n",
    "                except Exception as e:\n",
    "                    print(e)\n",
    "                    break\n",
    "            else:\n",
    "                # result += sum(last.values())\n",
    "                break\n",
    "\n",
    "         \n",
    "                \n",
    "for line in data:\n",
    "    numbers = line.split()\n",
    "    # print(numbers)\n",
    "    mach(numbers)\n",
    "    \n",
    "print(result)"
   ]
  },
  {
   "cell_type": "markdown",
   "id": "dde7da94",
   "metadata": {
    "papermill": {
     "duration": 0.002274,
     "end_time": "2023-12-10T13:39:10.914111",
     "exception": false,
     "start_time": "2023-12-10T13:39:10.911837",
     "status": "completed"
    },
    "tags": []
   },
   "source": [
    "# Challenge 2\n",
    "Similar to the code above, except this time we gather all of the first numbers and substract the first number of the last row from the first number of the row before it until we arrive at the top of our inverted pyramid. "
   ]
  },
  {
   "cell_type": "code",
   "execution_count": 4,
   "id": "423a89a3",
   "metadata": {
    "execution": {
     "iopub.execute_input": "2023-12-10T13:39:10.920585Z",
     "iopub.status.busy": "2023-12-10T13:39:10.920174Z",
     "iopub.status.idle": "2023-12-10T13:39:10.942877Z",
     "shell.execute_reply": "2023-12-10T13:39:10.941642Z"
    },
    "papermill": {
     "duration": 0.028588,
     "end_time": "2023-12-10T13:39:10.945152",
     "exception": false,
     "start_time": "2023-12-10T13:39:10.916564",
     "status": "completed"
    },
    "tags": []
   },
   "outputs": [
    {
     "name": "stdout",
     "output_type": "stream",
     "text": [
      "942\n"
     ]
    }
   ],
   "source": [
    "result_2 = 0\n",
    "list = []\n",
    "\n",
    "def mach(self):\n",
    "    global list\n",
    "    global result_2\n",
    "    global numbers\n",
    "    next = []\n",
    "    list.append(int(self[0]))\n",
    "    for i in range(len(self)):\n",
    "        try: \n",
    "            next.append(int(self[i+1]) - int(self[i]))\n",
    "        except:\n",
    "            # print(f\"Cannot append anymore: {next}\")\n",
    "            if next.count(0) != (len(self)-1):\n",
    "                try:\n",
    "                    mach(next)\n",
    "                except Exception as e:\n",
    "                    print(\"Error:\", e)\n",
    "                    break\n",
    "            else:\n",
    "                calc = int(numbers[0])\n",
    "                cc = list[-2] - list[-1]\n",
    "                try:\n",
    "                    for num in range(1,len(list)):\n",
    "                        # print(f\"{calc} for {num}\")\n",
    "                        # print(f\"We are at {num}, {cc}\")\n",
    "                        list.pop()\n",
    "                        cc = (list[-2] - cc)\n",
    "                except:\n",
    "                    result_2 += cc\n",
    "                    list.clear()\n",
    "                    # print(result_2, \"\\n\")\n",
    "                    break\n",
    "\n",
    "         \n",
    "                \n",
    "for line in data:\n",
    "    numbers = line.split()\n",
    "    # print(numbers)\n",
    "    mach(numbers)\n",
    "    \n",
    "print(result_2)"
   ]
  },
  {
   "cell_type": "markdown",
   "id": "eb841745",
   "metadata": {
    "papermill": {
     "duration": 0.002428,
     "end_time": "2023-12-10T13:39:10.950583",
     "exception": false,
     "start_time": "2023-12-10T13:39:10.948155",
     "status": "completed"
    },
    "tags": []
   },
   "source": [
    "# Challenge Day 09 successfully resolved :)"
   ]
  }
 ],
 "metadata": {
  "kaggle": {
   "accelerator": "none",
   "dataSources": [
    {
     "datasetId": 4137758,
     "sourceId": 7163353,
     "sourceType": "datasetVersion"
    }
   ],
   "dockerImageVersionId": 30615,
   "isGpuEnabled": false,
   "isInternetEnabled": true,
   "language": "python",
   "sourceType": "notebook"
  },
  "kernelspec": {
   "display_name": "Python 3",
   "language": "python",
   "name": "python3"
  },
  "language_info": {
   "codemirror_mode": {
    "name": "ipython",
    "version": 3
   },
   "file_extension": ".py",
   "mimetype": "text/x-python",
   "name": "python",
   "nbconvert_exporter": "python",
   "pygments_lexer": "ipython3",
   "version": "3.10.12"
  },
  "papermill": {
   "default_parameters": {},
   "duration": 3.537377,
   "end_time": "2023-12-10T13:39:11.474279",
   "environment_variables": {},
   "exception": null,
   "input_path": "__notebook__.ipynb",
   "output_path": "__notebook__.ipynb",
   "parameters": {},
   "start_time": "2023-12-10T13:39:07.936902",
   "version": "2.4.0"
  }
 },
 "nbformat": 4,
 "nbformat_minor": 5
}
